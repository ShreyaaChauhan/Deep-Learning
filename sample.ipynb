{
  "nbformat": 4,
  "nbformat_minor": 0,
  "metadata": {
    "colab": {
      "name": "sample",
      "provenance": [],
      "collapsed_sections": [],
      "authorship_tag": "ABX9TyOmuVYp7Naqf9tXjPbBFFWQ",
      "include_colab_link": true
    },
    "kernelspec": {
      "name": "python3",
      "display_name": "Python 3"
    },
    "language_info": {
      "name": "python"
    }
  },
  "cells": [
    {
      "cell_type": "markdown",
      "metadata": {
        "id": "view-in-github",
        "colab_type": "text"
      },
      "source": [
        "<a href=\"https://colab.research.google.com/github/ShreyaaChauhan/Deep-Learning/blob/main/sample.ipynb\" target=\"_parent\"><img src=\"https://colab.research.google.com/assets/colab-badge.svg\" alt=\"Open In Colab\"/></a>"
      ]
    },
    {
      "cell_type": "code",
      "execution_count": null,
      "metadata": {
        "id": "0-3EVmIMUBWP"
      },
      "outputs": [],
      "source": [
        "abc = \"abs\""
      ]
    },
    {
      "cell_type": "code",
      "source": [
        "degf =\"pqj\""
      ],
      "metadata": {
        "id": "EFhgjLpFbQhd"
      },
      "execution_count": null,
      "outputs": []
    },
    {
      "cell_type": "code",
      "source": [
        "qst=\"jjghgjh\""
      ],
      "metadata": {
        "id": "vloMZgjxbtbu"
      },
      "execution_count": null,
      "outputs": []
    }
  ]
}