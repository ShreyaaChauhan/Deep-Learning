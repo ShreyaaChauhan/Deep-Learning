{
  "nbformat": 4,
  "nbformat_minor": 0,
  "metadata": {
    "colab": {
      "name": "tensorflow_fundamentals.ipynb",
      "provenance": [],
      "include_colab_link": true
    },
    "kernelspec": {
      "name": "python3",
      "display_name": "Python 3"
    },
    "language_info": {
      "name": "python"
    }
  },
  "cells": [
    {
      "cell_type": "markdown",
      "metadata": {
        "id": "view-in-github",
        "colab_type": "text"
      },
      "source": [
        "<a href=\"https://colab.research.google.com/github/ShreyaaChauhan/Deep-Learning/blob/main/tensorflow_fundamentals.ipynb\" target=\"_parent\"><img src=\"https://colab.research.google.com/assets/colab-badge.svg\" alt=\"Open In Colab\"/></a>"
      ]
    },
    {
      "cell_type": "markdown",
      "source": [
        "#In this notebook we will cover some fundamental concepts of tensoeflow using tensorflow library\n",
        "\n",
        "we are going to cover the following concepts\n",
        "*   Introduction to tensors\n",
        "*   Getting infroamtion from tensors\n",
        "*   Manipulating tensors\n",
        "*   Tensor's and numpy\n",
        "*   using tf.functio(way to speed up normal python functions)\n",
        "*   Using GPU with tensors\n",
        "*   And some examples\n",
        "\n",
        "\n",
        "\n",
        "\n",
        "\n",
        "\n",
        "\n",
        "\n"
      ],
      "metadata": {
        "id": "EI0fNDn6nHEF"
      }
    },
    {
      "cell_type": "markdown",
      "source": [
        "##Introduction to tensors"
      ],
      "metadata": {
        "id": "wFqSVvmjoZuV"
      }
    },
    {
      "cell_type": "code",
      "source": [
        "import tensorflow as tf\n",
        "print(tf.__version__)"
      ],
      "metadata": {
        "colab": {
          "base_uri": "https://localhost:8080/"
        },
        "id": "zjIP8Ov3nAVH",
        "outputId": "2f316eff-9f1a-44f7-90f6-98a9870f6bb8"
      },
      "execution_count": null,
      "outputs": [
        {
          "output_type": "stream",
          "name": "stdout",
          "text": [
            "2.8.0\n"
          ]
        }
      ]
    },
    {
      "cell_type": "markdown",
      "source": [
        "Create tensors with tf.constant"
      ],
      "metadata": {
        "id": "3VXpAICepD7g"
      }
    },
    {
      "cell_type": "code",
      "source": [
        "from tensorflow.python.ops.gen_array_ops import matrix_diag_part_v2\n",
        "value = 78\n",
        "scalar = tf.constant(value, dtype=float)\n",
        "print(scalar)\n",
        "value = [1,2,3]\n",
        "vector = tf.constant(value)\n",
        "print(vector)\n",
        "#Here we are basica;y creating a vector\n",
        "value = [[1, 2],[ 3, 4],[ 5, 6]]\n",
        "matrix = tf.constant(value)\n",
        "print(matrix)"
      ],
      "metadata": {
        "colab": {
          "base_uri": "https://localhost:8080/"
        },
        "id": "3IfMpfWiovct",
        "outputId": "2b9593cf-2178-4ee4-9313-3c164fb41351"
      },
      "execution_count": null,
      "outputs": [
        {
          "output_type": "stream",
          "name": "stdout",
          "text": [
            "tf.Tensor(78.0, shape=(), dtype=float32)\n",
            "tf.Tensor([1 2 3], shape=(3,), dtype=int32)\n",
            "tf.Tensor(\n",
            "[[1 2]\n",
            " [3 4]\n",
            " [5 6]], shape=(3, 2), dtype=int32)\n"
          ]
        }
      ]
    },
    {
      "cell_type": "markdown",
      "source": [
        "Some important points to note:-\n",
        "\n",
        "Correct way of defining tf.constant is \n",
        "```\n",
        "tf.constant(\n",
        "    value, dtype=None, shape=None, name='Const'\n",
        ")\n",
        "```\n",
        "If you initialise a tf.constant without specifying dtype then it is **init32** by default\n",
        "\n",
        "*   If the argument dtype is not specified, then the type is inferred from the type of value\n",
        "*   If dtype is specified, the resulting tensor values are cast to the requested dtype\n",
        "*   If shape is set, the value is reshaped to match. Scalars are expanded to fill the shape\n",
        "\n",
        "For more info visit this link :- https://www.tensorflow.org/api_docs/python/tf/constant\n",
        "\n",
        "\n",
        "\n",
        "\n",
        "\n",
        "\n",
        "\n",
        "\n"
      ],
      "metadata": {
        "id": "-V6ym-QTrD1k"
      }
    },
    {
      "cell_type": "code",
      "source": [
        "b.ndim"
      ],
      "metadata": {
        "colab": {
          "base_uri": "https://localhost:8080/"
        },
        "id": "rmgOdHFepWYV",
        "outputId": "d9c1cfdd-808a-454f-ed84-d5b756682ecd"
      },
      "execution_count": null,
      "outputs": [
        {
          "output_type": "execute_result",
          "data": {
            "text/plain": [
              "2"
            ]
          },
          "metadata": {},
          "execution_count": 32
        }
      ]
    },
    {
      "cell_type": "code",
      "source": [
        ""
      ],
      "metadata": {
        "id": "Qvpi2nqnpzMf"
      },
      "execution_count": null,
      "outputs": []
    }
  ]
}