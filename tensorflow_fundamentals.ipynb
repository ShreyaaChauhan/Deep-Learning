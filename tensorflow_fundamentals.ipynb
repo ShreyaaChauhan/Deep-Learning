{
  "nbformat": 4,
  "nbformat_minor": 0,
  "metadata": {
    "colab": {
      "name": "tensorflow_fundamentals.ipynb",
      "provenance": [],
      "include_colab_link": true
    },
    "kernelspec": {
      "name": "python3",
      "display_name": "Python 3"
    },
    "language_info": {
      "name": "python"
    }
  },
  "cells": [
    {
      "cell_type": "markdown",
      "metadata": {
        "id": "view-in-github",
        "colab_type": "text"
      },
      "source": [
        "<a href=\"https://colab.research.google.com/github/ShreyaaChauhan/Deep-Learning/blob/main/tensorflow_fundamentals.ipynb\" target=\"_parent\"><img src=\"https://colab.research.google.com/assets/colab-badge.svg\" alt=\"Open In Colab\"/></a>"
      ]
    },
    {
      "cell_type": "markdown",
      "source": [
        "<h1><b>Goal</b> Prepration for TensorFlow Developer Certification Exam by Google 🎯</h1> \n",
        "<h5><b>Author</b> Shreya Chauhan</h5> "
      ],
      "metadata": {
        "id": "y1mW6HgQuUH-"
      }
    },
    {
      "cell_type": "markdown",
      "source": [
        "#In this notebook we will cover some fundamental concepts of tensoeflow using tensorflow library\n",
        "\n",
        "we are going to cover the following concepts\n",
        "*   Introduction to tensors\n",
        "*   Getting infroamtion from tensors\n",
        "*   Manipulating tensors\n",
        "*   Tensor's and numpy\n",
        "*   using tf.functio(way to speed up normal python functions)\n",
        "*   Using GPU with tensors\n",
        "*   And some examples\n",
        "\n",
        "\n",
        "\n",
        "\n",
        "\n",
        "\n",
        "\n",
        "\n"
      ],
      "metadata": {
        "id": "EI0fNDn6nHEF"
      }
    },
    {
      "cell_type": "markdown",
      "source": [
        "##Introduction to tensors"
      ],
      "metadata": {
        "id": "wFqSVvmjoZuV"
      }
    },
    {
      "cell_type": "code",
      "source": [
        "import tensorflow as tf\n",
        "print(tf.__version__)"
      ],
      "metadata": {
        "colab": {
          "base_uri": "https://localhost:8080/"
        },
        "id": "zjIP8Ov3nAVH",
        "outputId": "2f316eff-9f1a-44f7-90f6-98a9870f6bb8"
      },
      "execution_count": null,
      "outputs": [
        {
          "output_type": "stream",
          "name": "stdout",
          "text": [
            "2.8.0\n"
          ]
        }
      ]
    },
    {
      "cell_type": "markdown",
      "source": [
        "### Creating tensors with **tf.constant**"
      ],
      "metadata": {
        "id": "3VXpAICepD7g"
      }
    },
    {
      "cell_type": "code",
      "source": [
        "from tensorflow.python.ops.gen_array_ops import matrix_diag_part_v2\n",
        "value = 78\n",
        "scalar = tf.constant(value, dtype=float)\n",
        "print(scalar)\n",
        "value = [1,2,3]\n",
        "vector = tf.constant(value)\n",
        "print(vector)\n",
        "#Here we are basica;y creating a vector\n",
        "value = [[1, 2],[ 3, 4],[ 5, 6]]\n",
        "matrix = tf.constant(value)\n",
        "print(matrix)\n",
        "value=[[[[1,2,3]]],[[[7,8,9]]],[[[14,15,16]]]]\n",
        "tensor= tf.constant(value)\n",
        "print(tensor)"
      ],
      "metadata": {
        "colab": {
          "base_uri": "https://localhost:8080/"
        },
        "id": "3IfMpfWiovct",
        "outputId": "e516473c-9e41-429b-c5f3-131e850343b7"
      },
      "execution_count": null,
      "outputs": [
        {
          "output_type": "stream",
          "name": "stdout",
          "text": [
            "tf.Tensor(78.0, shape=(), dtype=float32)\n",
            "tf.Tensor([1 2 3], shape=(3,), dtype=int32)\n",
            "tf.Tensor(\n",
            "[[1 2]\n",
            " [3 4]\n",
            " [5 6]], shape=(3, 2), dtype=int32)\n",
            "tf.Tensor(\n",
            "[[[[ 1  2  3]]]\n",
            "\n",
            "\n",
            " [[[ 7  8  9]]]\n",
            "\n",
            "\n",
            " [[[14 15 16]]]], shape=(3, 1, 1, 3), dtype=int32)\n"
          ]
        }
      ]
    },
    {
      "cell_type": "markdown",
      "source": [
        "Some important points to note:-\n",
        "\n",
        "Correct way of defining tf.constant is \n",
        "```\n",
        "tf.constant(\n",
        "    value, dtype=None, shape=None, name='Const'\n",
        ")\n",
        "```\n",
        "If you initialise a tf.constant without specifying dtype then it is **init32** by default\n",
        "\n",
        "*   If the argument dtype is not specified, then the type is inferred from the type of value\n",
        "*   If dtype is specified, the resulting tensor values are cast to the requested dtype\n",
        "*   If shape is set, the value is reshaped to match. Scalars are expanded to fill the shape\n",
        "\n",
        "For more info visit this link :- https://www.tensorflow.org/api_docs/python/tf/constant\n",
        "\n",
        "\n",
        "\n",
        "\n",
        "\n",
        "\n",
        "\n",
        "\n"
      ],
      "metadata": {
        "id": "-V6ym-QTrD1k"
      }
    },
    {
      "cell_type": "markdown",
      "source": [
        "Use ndim (#No of dimension) to check the dimension fo the tensor"
      ],
      "metadata": {
        "id": "_XDG_QHox0dT"
      }
    },
    {
      "cell_type": "code",
      "source": [
        "print(scalar.ndim)\n",
        "print(vector.ndim)\n",
        "print(matrix.ndim)\n",
        "print(tensor.ndim)"
      ],
      "metadata": {
        "colab": {
          "base_uri": "https://localhost:8080/"
        },
        "id": "rmgOdHFepWYV",
        "outputId": "c0cc52a3-6a2e-445e-b930-8be8624874c3"
      },
      "execution_count": null,
      "outputs": [
        {
          "output_type": "stream",
          "name": "stdout",
          "text": [
            "0\n",
            "1\n",
            "2\n",
            "4\n"
          ]
        }
      ]
    },
    {
      "cell_type": "markdown",
      "source": [
        "* Scalar: a number\n",
        "* Vactor: list\n",
        "* Matrix: a 2D array\n",
        "* tensor: nD array "
      ],
      "metadata": {
        "id": "f_afKjlZyPLC"
      }
    },
    {
      "cell_type": "markdown",
      "source": [
        "### Creating tensors with **tf.Variable**"
      ],
      "metadata": {
        "id": "LCHhyZ6_y2oW"
      }
    },
    {
      "cell_type": "code",
      "source": [
        "#Create the same variable as above with as it is clear form it's name these will be variable i.e we can modify them\n",
        "changeable_tensor = tf.Variable([1,2])\n",
        "unchangeable_tensor = tf.constant([3,4])\n",
        "changeable_tensor, unchangeable_tensor"
      ],
      "metadata": {
        "colab": {
          "base_uri": "https://localhost:8080/"
        },
        "id": "5kuZFAK2y7Wy",
        "outputId": "cc56a690-51bd-4d8b-f5ef-d7f1fbeca1af"
      },
      "execution_count": null,
      "outputs": [
        {
          "output_type": "execute_result",
          "data": {
            "text/plain": [
              "(<tf.Variable 'Variable:0' shape=(2,) dtype=int32, numpy=array([1, 2], dtype=int32)>,\n",
              " <tf.Tensor: shape=(2,), dtype=int32, numpy=array([3, 4], dtype=int32)>)"
            ]
          },
          "metadata": {},
          "execution_count": 56
        }
      ]
    },
    {
      "cell_type": "code",
      "source": [
        "#what if we have to modifu the changeable_tensor tensor\n",
        "changeable_tensor[0].assign(2)\n"
      ],
      "metadata": {
        "colab": {
          "base_uri": "https://localhost:8080/"
        },
        "id": "_PXJ8YcYzaCJ",
        "outputId": "4557386b-0195-4cf4-8fc0-9c13d82eab8a"
      },
      "execution_count": null,
      "outputs": [
        {
          "output_type": "execute_result",
          "data": {
            "text/plain": [
              "<tf.Variable 'UnreadVariable' shape=(2,) dtype=int32, numpy=array([2, 2], dtype=int32)>"
            ]
          },
          "metadata": {},
          "execution_count": 58
        }
      ]
    },
    {
      "cell_type": "code",
      "source": [
        "#woohoo!!! we have changed that successfully. Now Let's try to change uchangeable_tensor\n",
        "uchangeable_tensor[0].assign(4)"
      ],
      "metadata": {
        "colab": {
          "base_uri": "https://localhost:8080/",
          "height": 186
        },
        "id": "SLtwm9_n0mFl",
        "outputId": "37ff4825-0747-4cb5-b723-be98a08b6004"
      },
      "execution_count": null,
      "outputs": [
        {
          "output_type": "error",
          "ename": "NameError",
          "evalue": "ignored",
          "traceback": [
            "\u001b[0;31m---------------------------------------------------------------------------\u001b[0m",
            "\u001b[0;31mNameError\u001b[0m                                 Traceback (most recent call last)",
            "\u001b[0;32m<ipython-input-59-a8ff6b0819e8>\u001b[0m in \u001b[0;36m<module>\u001b[0;34m()\u001b[0m\n\u001b[1;32m      1\u001b[0m \u001b[0;31m#woohoo!!! we have changed that successfully. Now Let's try to change uchangeable_tensor\u001b[0m\u001b[0;34m\u001b[0m\u001b[0;34m\u001b[0m\u001b[0;34m\u001b[0m\u001b[0m\n\u001b[0;32m----> 2\u001b[0;31m \u001b[0muchangeable_tensor\u001b[0m\u001b[0;34m[\u001b[0m\u001b[0;36m0\u001b[0m\u001b[0;34m]\u001b[0m\u001b[0;34m.\u001b[0m\u001b[0massign\u001b[0m\u001b[0;34m(\u001b[0m\u001b[0;36m4\u001b[0m\u001b[0;34m)\u001b[0m\u001b[0;34m\u001b[0m\u001b[0;34m\u001b[0m\u001b[0m\n\u001b[0m",
            "\u001b[0;31mNameError\u001b[0m: name 'uchangeable_tensor' is not defined"
          ]
        }
      ]
    },
    {
      "cell_type": "code",
      "source": [
        "#Ooops!! we got an error"
      ],
      "metadata": {
        "id": "YAg7_0RJ1Ah7"
      },
      "execution_count": null,
      "outputs": []
    },
    {
      "cell_type": "markdown",
      "source": [
        "\n",
        "🔑 **Note** We rarely have to decide if we have to use `tf.Variable` or `tf.constant` as tesorflow does this for us."
      ],
      "metadata": {
        "id": "1ZR1T2Xl27IV"
      }
    },
    {
      "cell_type": "markdown",
      "source": [
        "### Creating **random tensors**"
      ],
      "metadata": {
        "id": "6qJmfxnC5Odh"
      }
    },
    {
      "cell_type": "code",
      "source": [
        "random_1 = tf.random.Generator.from_seed(42) # we use seed to generate same random value \n",
        "random_1 = random_1.normal(shape=(3,3)) # normal here means normal distribution\n",
        "random_2 = tf.random.Generator.from_seed(42)\n",
        "random_2 = random_2.normal(shape=(3,3))\n"
      ],
      "metadata": {
        "id": "6QpeIuFv1GGQ"
      },
      "execution_count": null,
      "outputs": []
    },
    {
      "cell_type": "code",
      "source": [
        "random_1, random_2"
      ],
      "metadata": {
        "colab": {
          "base_uri": "https://localhost:8080/"
        },
        "id": "yHTnvOIP6Pwa",
        "outputId": "b6396884-ff3d-40a6-c22f-709d9d2acba2"
      },
      "execution_count": null,
      "outputs": [
        {
          "output_type": "execute_result",
          "data": {
            "text/plain": [
              "(<tf.Tensor: shape=(3, 3), dtype=float32, numpy=\n",
              " array([[-0.7565803 , -0.06854702,  0.07595026],\n",
              "        [-1.2573844 , -0.23193763, -1.8107855 ],\n",
              "        [ 0.09988727, -0.50998646, -0.7535805 ]], dtype=float32)>,\n",
              " <tf.Tensor: shape=(3, 3), dtype=float32, numpy=\n",
              " array([[-0.7565803 , -0.06854702,  0.07595026],\n",
              "        [-1.2573844 , -0.23193763, -1.8107855 ],\n",
              "        [ 0.09988727, -0.50998646, -0.7535805 ]], dtype=float32)>)"
            ]
          },
          "metadata": {},
          "execution_count": 66
        }
      ]
    },
    {
      "cell_type": "code",
      "source": [
        "#Check if `random_1` and `random_2` are equal\n",
        "random_1==random_2"
      ],
      "metadata": {
        "colab": {
          "base_uri": "https://localhost:8080/"
        },
        "id": "jt5Q5Roa6dVO",
        "outputId": "787ae8ad-f5c4-43a6-8f2a-b75b1a19ff39"
      },
      "execution_count": null,
      "outputs": [
        {
          "output_type": "execute_result",
          "data": {
            "text/plain": [
              "<tf.Tensor: shape=(3, 3), dtype=bool, numpy=\n",
              "array([[ True,  True,  True],\n",
              "       [ True,  True,  True],\n",
              "       [ True,  True,  True]])>"
            ]
          },
          "metadata": {},
          "execution_count": 69
        }
      ]
    },
    {
      "cell_type": "markdown",
      "source": [
        "### Shuffle the order of tensors in tensolflow"
      ],
      "metadata": {
        "id": "264WbHwp7Tgw"
      }
    },
    {
      "cell_type": "code",
      "source": [
        "not_shuffled = tf.constant([1,2,3,4,5])\n",
        "not_shuffled"
      ],
      "metadata": {
        "colab": {
          "base_uri": "https://localhost:8080/"
        },
        "id": "jQi_lZFp61U-",
        "outputId": "75360ce9-94ce-44e0-cb6c-93673327ec23"
      },
      "execution_count": null,
      "outputs": [
        {
          "output_type": "execute_result",
          "data": {
            "text/plain": [
              "<tf.Tensor: shape=(5,), dtype=int32, numpy=array([1, 2, 3, 4, 5], dtype=int32)>"
            ]
          },
          "metadata": {},
          "execution_count": 73
        }
      ]
    },
    {
      "cell_type": "code",
      "source": [
        "tf.random.shuffle(not_shuffled)"
      ],
      "metadata": {
        "colab": {
          "base_uri": "https://localhost:8080/"
        },
        "id": "yC-iPhcI7fXe",
        "outputId": "871f8a9b-7fb4-44e2-a0dc-46b12a753375"
      },
      "execution_count": null,
      "outputs": [
        {
          "output_type": "execute_result",
          "data": {
            "text/plain": [
              "<tf.Tensor: shape=(5,), dtype=int32, numpy=array([3, 2, 5, 1, 4], dtype=int32)>"
            ]
          },
          "metadata": {},
          "execution_count": 74
        }
      ]
    },
    {
      "cell_type": "code",
      "source": [
        "tf.random.set_seed(10) # you'll get same shuffled desk everytime you'll try to run iot\n",
        "tf.random.shuffle(not_shuffled)"
      ],
      "metadata": {
        "colab": {
          "base_uri": "https://localhost:8080/"
        },
        "id": "Pn0UF0SG7rAI",
        "outputId": "8b8189ec-388f-4bec-c332-c68c7646dd2d"
      },
      "execution_count": null,
      "outputs": [
        {
          "output_type": "execute_result",
          "data": {
            "text/plain": [
              "<tf.Tensor: shape=(5,), dtype=int32, numpy=array([1, 3, 5, 4, 2], dtype=int32)>"
            ]
          },
          "metadata": {},
          "execution_count": 78
        }
      ]
    },
    {
      "cell_type": "code",
      "source": [
        ""
      ],
      "metadata": {
        "id": "LSBnaJRi8DbI"
      },
      "execution_count": null,
      "outputs": []
    }
  ]
}