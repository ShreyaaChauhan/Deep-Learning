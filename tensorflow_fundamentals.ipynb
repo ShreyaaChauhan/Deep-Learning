{
  "nbformat": 4,
  "nbformat_minor": 0,
  "metadata": {
    "colab": {
      "name": "tensorflow_fundamentals.ipynb",
      "provenance": [],
      "include_colab_link": true
    },
    "kernelspec": {
      "name": "python3",
      "display_name": "Python 3"
    },
    "language_info": {
      "name": "python"
    },
    "accelerator": "GPU"
  },
  "cells": [
    {
      "cell_type": "markdown",
      "metadata": {
        "id": "view-in-github",
        "colab_type": "text"
      },
      "source": [
        "<a href=\"https://colab.research.google.com/github/ShreyaaChauhan/Deep-Learning/blob/main/tensorflow_fundamentals.ipynb\" target=\"_parent\"><img src=\"https://colab.research.google.com/assets/colab-badge.svg\" alt=\"Open In Colab\"/></a>"
      ]
    },
    {
      "cell_type": "markdown",
      "source": [
        "<h1><b>Goal</b> Prepration for TensorFlow Developer Certification Exam by Google 🎯</h1> \n",
        "<h5><b>Author</b> Shreya Chauhan</h5> "
      ],
      "metadata": {
        "id": "y1mW6HgQuUH-"
      }
    },
    {
      "cell_type": "markdown",
      "source": [
        "#In this notebook we will cover some fundamental concepts of tensoeflow using tensorflow library\n",
        "\n",
        "we are going to cover the following concepts\n",
        "*   Introduction to tensors\n",
        "*   Getting infroamtion from tensors\n",
        "*   Manipulating tensors\n",
        "*   Tensor's and numpy\n",
        "*   using tf.functio(way to speed up normal python functions)\n",
        "*   Using GPU with tensors\n",
        "*   And some examples\n",
        "\n",
        "\n",
        "\n",
        "\n",
        "\n",
        "\n",
        "\n",
        "\n"
      ],
      "metadata": {
        "id": "EI0fNDn6nHEF"
      }
    },
    {
      "cell_type": "markdown",
      "source": [
        "##Introduction to tensors"
      ],
      "metadata": {
        "id": "wFqSVvmjoZuV"
      }
    },
    {
      "cell_type": "code",
      "source": [
        "import tensorflow as tf\n",
        "import numpy as np\n",
        "print(tf.__version__)"
      ],
      "metadata": {
        "colab": {
          "base_uri": "https://localhost:8080/"
        },
        "id": "zjIP8Ov3nAVH",
        "outputId": "f35c45d8-f6d7-47a0-8878-c7172b36af83"
      },
      "execution_count": null,
      "outputs": [
        {
          "output_type": "stream",
          "name": "stdout",
          "text": [
            "2.8.0\n"
          ]
        }
      ]
    },
    {
      "cell_type": "markdown",
      "source": [
        "### Creating tensors with **tf.constant**"
      ],
      "metadata": {
        "id": "3VXpAICepD7g"
      }
    },
    {
      "cell_type": "code",
      "source": [
        "from tensorflow.python.ops.gen_array_ops import matrix_diag_part_v2\n",
        "value = 78\n",
        "scalar = tf.constant(value, dtype=float)\n",
        "print(scalar)\n",
        "value = [1,2,3]\n",
        "vector = tf.constant(value)\n",
        "print(vector)\n",
        "#Here we are basica;y creating a vector\n",
        "value = [[1, 2],[ 3, 4],[ 5, 6]]\n",
        "matrix = tf.constant(value)\n",
        "print(matrix)\n",
        "value=[[[[1,2,3]]],[[[7,8,9]]],[[[14,15,16]]]]\n",
        "tensor= tf.constant(value)\n",
        "print(tensor)"
      ],
      "metadata": {
        "colab": {
          "base_uri": "https://localhost:8080/"
        },
        "id": "3IfMpfWiovct",
        "outputId": "b35de36f-d6ce-4282-e016-606bc486a0bb"
      },
      "execution_count": null,
      "outputs": [
        {
          "output_type": "stream",
          "name": "stdout",
          "text": [
            "tf.Tensor(78.0, shape=(), dtype=float32)\n",
            "tf.Tensor([1 2 3], shape=(3,), dtype=int32)\n",
            "tf.Tensor(\n",
            "[[1 2]\n",
            " [3 4]\n",
            " [5 6]], shape=(3, 2), dtype=int32)\n",
            "tf.Tensor(\n",
            "[[[[ 1  2  3]]]\n",
            "\n",
            "\n",
            " [[[ 7  8  9]]]\n",
            "\n",
            "\n",
            " [[[14 15 16]]]], shape=(3, 1, 1, 3), dtype=int32)\n"
          ]
        }
      ]
    },
    {
      "cell_type": "markdown",
      "source": [
        "Some important points to note:-\n",
        "\n",
        "Correct way of defining tf.constant is \n",
        "```\n",
        "tf.constant(\n",
        "    value, dtype=None, shape=None, name='Const'\n",
        ")\n",
        "```\n",
        "If you initialise a tf.constant without specifying dtype then it is **init32** by default\n",
        "\n",
        "*   If the argument dtype is not specified, then the type is inferred from the type of value\n",
        "*   If dtype is specified, the resulting tensor values are cast to the requested dtype\n",
        "*   If shape is set, the value is reshaped to match. Scalars are expanded to fill the shape\n",
        "\n",
        "For more info visit this link :- https://www.tensorflow.org/api_docs/python/tf/constant\n",
        "\n",
        "\n",
        "\n",
        "\n",
        "\n",
        "\n",
        "\n",
        "\n"
      ],
      "metadata": {
        "id": "-V6ym-QTrD1k"
      }
    },
    {
      "cell_type": "markdown",
      "source": [
        "Use ndim (#No of dimension) to check the dimension fo the tensor"
      ],
      "metadata": {
        "id": "_XDG_QHox0dT"
      }
    },
    {
      "cell_type": "code",
      "source": [
        "print(scalar.ndim)\n",
        "print(vector.ndim)\n",
        "print(matrix.ndim)\n",
        "print(tensor.ndim)"
      ],
      "metadata": {
        "colab": {
          "base_uri": "https://localhost:8080/"
        },
        "id": "rmgOdHFepWYV",
        "outputId": "07adceb7-ac3d-480e-9a70-01054f2fa416"
      },
      "execution_count": null,
      "outputs": [
        {
          "output_type": "stream",
          "name": "stdout",
          "text": [
            "0\n",
            "1\n",
            "2\n",
            "4\n"
          ]
        }
      ]
    },
    {
      "cell_type": "markdown",
      "source": [
        "* Scalar: a number\n",
        "* Vactor: list\n",
        "* Matrix: a 2D array\n",
        "* tensor: nD array "
      ],
      "metadata": {
        "id": "f_afKjlZyPLC"
      }
    },
    {
      "cell_type": "markdown",
      "source": [
        "### Creating tensors with **tf.Variable**"
      ],
      "metadata": {
        "id": "LCHhyZ6_y2oW"
      }
    },
    {
      "cell_type": "code",
      "source": [
        "#Create the same variable as above with as it is clear form it's name these will be variable i.e we can modify them\n",
        "changeable_tensor = tf.Variable([1,2])\n",
        "unchangeable_tensor = tf.constant([3,4])\n",
        "changeable_tensor, unchangeable_tensor"
      ],
      "metadata": {
        "colab": {
          "base_uri": "https://localhost:8080/"
        },
        "id": "5kuZFAK2y7Wy",
        "outputId": "250ac109-f10d-4b06-f4fb-acae3c29e012"
      },
      "execution_count": null,
      "outputs": [
        {
          "output_type": "execute_result",
          "data": {
            "text/plain": [
              "(<tf.Variable 'Variable:0' shape=(2,) dtype=int32, numpy=array([1, 2], dtype=int32)>,\n",
              " <tf.Tensor: shape=(2,), dtype=int32, numpy=array([3, 4], dtype=int32)>)"
            ]
          },
          "metadata": {},
          "execution_count": 5
        }
      ]
    },
    {
      "cell_type": "code",
      "source": [
        "#what if we have to modifu the changeable_tensor tensor\n",
        "changeable_tensor[0].assign(2)\n"
      ],
      "metadata": {
        "colab": {
          "base_uri": "https://localhost:8080/"
        },
        "id": "_PXJ8YcYzaCJ",
        "outputId": "f25e3505-75a7-4165-f085-7c82c8958ac6"
      },
      "execution_count": null,
      "outputs": [
        {
          "output_type": "execute_result",
          "data": {
            "text/plain": [
              "<tf.Variable 'UnreadVariable' shape=(2,) dtype=int32, numpy=array([2, 2], dtype=int32)>"
            ]
          },
          "metadata": {},
          "execution_count": 6
        }
      ]
    },
    {
      "cell_type": "code",
      "source": [
        "#woohoo!!! we have changed that successfully. Now Let's try to change uchangeable_tensor\n",
        "uchangeable_tensor[0].assign(4)"
      ],
      "metadata": {
        "colab": {
          "base_uri": "https://localhost:8080/",
          "height": 186
        },
        "id": "SLtwm9_n0mFl",
        "outputId": "b1885521-9628-4250-cbc8-939e91611a72"
      },
      "execution_count": null,
      "outputs": [
        {
          "output_type": "error",
          "ename": "NameError",
          "evalue": "ignored",
          "traceback": [
            "\u001b[0;31m---------------------------------------------------------------------------\u001b[0m",
            "\u001b[0;31mNameError\u001b[0m                                 Traceback (most recent call last)",
            "\u001b[0;32m<ipython-input-7-a8ff6b0819e8>\u001b[0m in \u001b[0;36m<module>\u001b[0;34m()\u001b[0m\n\u001b[1;32m      1\u001b[0m \u001b[0;31m#woohoo!!! we have changed that successfully. Now Let's try to change uchangeable_tensor\u001b[0m\u001b[0;34m\u001b[0m\u001b[0;34m\u001b[0m\u001b[0;34m\u001b[0m\u001b[0m\n\u001b[0;32m----> 2\u001b[0;31m \u001b[0muchangeable_tensor\u001b[0m\u001b[0;34m[\u001b[0m\u001b[0;36m0\u001b[0m\u001b[0;34m]\u001b[0m\u001b[0;34m.\u001b[0m\u001b[0massign\u001b[0m\u001b[0;34m(\u001b[0m\u001b[0;36m4\u001b[0m\u001b[0;34m)\u001b[0m\u001b[0;34m\u001b[0m\u001b[0;34m\u001b[0m\u001b[0m\n\u001b[0m",
            "\u001b[0;31mNameError\u001b[0m: name 'uchangeable_tensor' is not defined"
          ]
        }
      ]
    },
    {
      "cell_type": "code",
      "source": [
        "#Ooops!! we got an error"
      ],
      "metadata": {
        "id": "YAg7_0RJ1Ah7"
      },
      "execution_count": null,
      "outputs": []
    },
    {
      "cell_type": "markdown",
      "source": [
        "\n",
        "🔑 **Note** We rarely have to decide if we have to use `tf.Variable` or `tf.constant` as tesorflow does this for us."
      ],
      "metadata": {
        "id": "1ZR1T2Xl27IV"
      }
    },
    {
      "cell_type": "markdown",
      "source": [
        "### Creating **random tensors**"
      ],
      "metadata": {
        "id": "6qJmfxnC5Odh"
      }
    },
    {
      "cell_type": "code",
      "source": [
        "random_1 = tf.random.Generator.from_seed(42) # we use seed to generate same random value \n",
        "random_1 = random_1.normal(shape=(3,3)) # normal here means normal distribution\n",
        "random_2 = tf.random.Generator.from_seed(42)\n",
        "random_2 = random_2.normal(shape=(3,3))\n"
      ],
      "metadata": {
        "id": "6QpeIuFv1GGQ"
      },
      "execution_count": null,
      "outputs": []
    },
    {
      "cell_type": "code",
      "source": [
        "random_1, random_2"
      ],
      "metadata": {
        "id": "yHTnvOIP6Pwa"
      },
      "execution_count": null,
      "outputs": []
    },
    {
      "cell_type": "code",
      "source": [
        "\n",
        "#Check if `random_1` and `random_2` are equal\n",
        "random_1==random_2"
      ],
      "metadata": {
        "id": "jt5Q5Roa6dVO"
      },
      "execution_count": null,
      "outputs": []
    },
    {
      "cell_type": "markdown",
      "source": [
        "### Shuffle the order of tensors in tensolflow"
      ],
      "metadata": {
        "id": "264WbHwp7Tgw"
      }
    },
    {
      "cell_type": "code",
      "source": [
        "not_shuffled = tf.constant([1,2,3,4,5])\n",
        "not_shuffled"
      ],
      "metadata": {
        "id": "jQi_lZFp61U-"
      },
      "execution_count": null,
      "outputs": []
    },
    {
      "cell_type": "code",
      "source": [
        "tf.random.shuffle(not_shuffled)"
      ],
      "metadata": {
        "id": "yC-iPhcI7fXe"
      },
      "execution_count": null,
      "outputs": []
    },
    {
      "cell_type": "code",
      "source": [
        "tf.random.set_seed(10) # you'll get same shuffled desk everytime you'll try to run iot\n",
        "tf.random.shuffle(not_shuffled)"
      ],
      "metadata": {
        "id": "Pn0UF0SG7rAI"
      },
      "execution_count": null,
      "outputs": []
    },
    {
      "cell_type": "markdown",
      "source": [
        "If you want to read more about seed please follow this link<br> https://www.tensorflow.org/api_docs/python/tf/random/set_seed\n"
      ],
      "metadata": {
        "id": "4pq079k_cvo1"
      }
    },
    {
      "cell_type": "markdown",
      "source": [
        "### Other ways to create a tensor"
      ],
      "metadata": {
        "id": "bxCr13QZNDyE"
      }
    },
    {
      "cell_type": "code",
      "source": [
        "#create a tensor of all ones\n",
        "tf.ones([3,3])"
      ],
      "metadata": {
        "colab": {
          "base_uri": "https://localhost:8080/"
        },
        "id": "LSBnaJRi8DbI",
        "outputId": "a6ed52f2-f513-4a0b-a540-e62e30f191a3"
      },
      "execution_count": null,
      "outputs": [
        {
          "output_type": "execute_result",
          "data": {
            "text/plain": [
              "<tf.Tensor: shape=(3, 3), dtype=float32, numpy=\n",
              "array([[1., 1., 1.],\n",
              "       [1., 1., 1.],\n",
              "       [1., 1., 1.]], dtype=float32)>"
            ]
          },
          "metadata": {},
          "execution_count": 8
        }
      ]
    },
    {
      "cell_type": "code",
      "source": [
        "#create a tensor of all zeros\n",
        "tf.zeros([3,3])"
      ],
      "metadata": {
        "colab": {
          "base_uri": "https://localhost:8080/"
        },
        "id": "RpfX0l9_dmeM",
        "outputId": "054030f8-e28d-463d-f68e-b56005aceac5"
      },
      "execution_count": null,
      "outputs": [
        {
          "output_type": "execute_result",
          "data": {
            "text/plain": [
              "<tf.Tensor: shape=(3, 3), dtype=float32, numpy=\n",
              "array([[0., 0., 0.],\n",
              "       [0., 0., 0.],\n",
              "       [0., 0., 0.]], dtype=float32)>"
            ]
          },
          "metadata": {},
          "execution_count": 9
        }
      ]
    },
    {
      "cell_type": "markdown",
      "source": [
        "### Creating a tensor from numpy array\n",
        "<br>\n",
        "Normally, we use numpy for array manupulation and tenorflow for working with tensors\n",
        "<br>\n",
        "\n",
        "🔑 **Note** The difference between a NumPy array and a tensor is that the tensors are backed by the accelerator memory like GPU and they are immutable, unlike NumPy arrays."
      ],
      "metadata": {
        "id": "A7RewgpDd_N1"
      }
    },
    {
      "cell_type": "code",
      "source": [
        "np_array = np.arange(1,25)\n",
        "print(np_array)\n",
        "tf_array = tf.constant(np_array, shape=(2,3,4))\n",
        "print(tf_array)"
      ],
      "metadata": {
        "colab": {
          "base_uri": "https://localhost:8080/"
        },
        "id": "2wreJMrGd2-u",
        "outputId": "c55f235c-8384-45c3-d990-4d12c2607899"
      },
      "execution_count": null,
      "outputs": [
        {
          "output_type": "stream",
          "name": "stdout",
          "text": [
            "[ 1  2  3  4  5  6  7  8  9 10 11 12 13 14 15 16 17 18 19 20 21 22 23 24]\n",
            "tf.Tensor(\n",
            "[[[ 1  2  3  4]\n",
            "  [ 5  6  7  8]\n",
            "  [ 9 10 11 12]]\n",
            "\n",
            " [[13 14 15 16]\n",
            "  [17 18 19 20]\n",
            "  [21 22 23 24]]], shape=(2, 3, 4), dtype=int64)\n"
          ]
        }
      ]
    },
    {
      "cell_type": "markdown",
      "source": [
        "### Getting information from tensors "
      ],
      "metadata": {
        "id": "nXwqgjaagH3p"
      }
    },
    {
      "cell_type": "markdown",
      "source": [
        "We would like to extract/get folowing attributes from a tensor:\n",
        "* Shape\n",
        "* Size\n",
        "* Rank\n",
        "* Axis or dimension"
      ],
      "metadata": {
        "id": "_iVKpCxRgM6S"
      }
    },
    {
      "cell_type": "code",
      "source": [
        "tensor = tf.ones([1,2,3,4,5])\n",
        "tensor"
      ],
      "metadata": {
        "colab": {
          "base_uri": "https://localhost:8080/"
        },
        "id": "hEtp8HNde9ms",
        "outputId": "e98b06df-b748-4a29-cce5-f02233a3fa36"
      },
      "execution_count": null,
      "outputs": [
        {
          "output_type": "execute_result",
          "data": {
            "text/plain": [
              "<tf.Tensor: shape=(1, 2, 3, 4, 5), dtype=float32, numpy=\n",
              "array([[[[[1., 1., 1., 1., 1.],\n",
              "          [1., 1., 1., 1., 1.],\n",
              "          [1., 1., 1., 1., 1.],\n",
              "          [1., 1., 1., 1., 1.]],\n",
              "\n",
              "         [[1., 1., 1., 1., 1.],\n",
              "          [1., 1., 1., 1., 1.],\n",
              "          [1., 1., 1., 1., 1.],\n",
              "          [1., 1., 1., 1., 1.]],\n",
              "\n",
              "         [[1., 1., 1., 1., 1.],\n",
              "          [1., 1., 1., 1., 1.],\n",
              "          [1., 1., 1., 1., 1.],\n",
              "          [1., 1., 1., 1., 1.]]],\n",
              "\n",
              "\n",
              "        [[[1., 1., 1., 1., 1.],\n",
              "          [1., 1., 1., 1., 1.],\n",
              "          [1., 1., 1., 1., 1.],\n",
              "          [1., 1., 1., 1., 1.]],\n",
              "\n",
              "         [[1., 1., 1., 1., 1.],\n",
              "          [1., 1., 1., 1., 1.],\n",
              "          [1., 1., 1., 1., 1.],\n",
              "          [1., 1., 1., 1., 1.]],\n",
              "\n",
              "         [[1., 1., 1., 1., 1.],\n",
              "          [1., 1., 1., 1., 1.],\n",
              "          [1., 1., 1., 1., 1.],\n",
              "          [1., 1., 1., 1., 1.]]]]], dtype=float32)>"
            ]
          },
          "metadata": {},
          "execution_count": 11
        }
      ]
    },
    {
      "cell_type": "code",
      "source": [
        "tensor.shape, tensor.ndim,  tf.size(tensor), tensor.dtype"
      ],
      "metadata": {
        "colab": {
          "base_uri": "https://localhost:8080/"
        },
        "id": "_zdTt_zHg20t",
        "outputId": "7a9620ec-cbc3-4679-efd0-46e9c169ed6f"
      },
      "execution_count": null,
      "outputs": [
        {
          "output_type": "execute_result",
          "data": {
            "text/plain": [
              "(TensorShape([1, 2, 3, 4, 5]),\n",
              " 5,\n",
              " <tf.Tensor: shape=(), dtype=int32, numpy=120>,\n",
              " tf.float32)"
            ]
          },
          "metadata": {},
          "execution_count": 12
        }
      ]
    },
    {
      "cell_type": "markdown",
      "source": [
        "### Indexing and expanding in tensorflow"
      ],
      "metadata": {
        "id": "9Y5DMXMzk87m"
      }
    },
    {
      "cell_type": "markdown",
      "source": [
        "indexing behaves the same just like it does in normal python array"
      ],
      "metadata": {
        "id": "25YkZQvalefn"
      }
    },
    {
      "cell_type": "code",
      "source": [
        "vector = tf.constant([1,2,3,4,5,6])"
      ],
      "metadata": {
        "id": "sNE7Tl7dhSXL"
      },
      "execution_count": null,
      "outputs": []
    },
    {
      "cell_type": "code",
      "source": [
        "# to print array within some limiits\n",
        "print(vector[1:4])\n",
        "#to print the last element\n",
        "print(vector[-1])\n",
        "#to print every element except last element\n",
        "print(vector[:-1])\n",
        "#everything goes just as it is in 1 dimensional array\n",
        "print(tensor[1:2,1:2,1:2,1:2,1:2])"
      ],
      "metadata": {
        "colab": {
          "base_uri": "https://localhost:8080/"
        },
        "id": "BsWXlRe9hqky",
        "outputId": "5678f496-2cc4-4b9b-d1f6-25c909b6cf7b"
      },
      "execution_count": null,
      "outputs": [
        {
          "output_type": "stream",
          "name": "stdout",
          "text": [
            "tf.Tensor([2 3 4], shape=(3,), dtype=int32)\n",
            "tf.Tensor(6, shape=(), dtype=int32)\n",
            "tf.Tensor([1 2 3 4 5], shape=(5,), dtype=int32)\n",
            "tf.Tensor([], shape=(0, 1, 1, 1, 1), dtype=float32)\n"
          ]
        }
      ]
    },
    {
      "cell_type": "code",
      "source": [
        "# expanding tensors\n",
        "tensor = tf.constant([[1,2],[3,4]])\n",
        "#to get the last element of every row\n",
        "print(tensor[:,-1])\n",
        "new_tensor = tensor[...,tf.newaxis]\n",
        "print(new_tensor)"
      ],
      "metadata": {
        "colab": {
          "base_uri": "https://localhost:8080/"
        },
        "id": "9MT8gfVYlWyo",
        "outputId": "bbdd33a0-040a-4ff5-8ac4-9770d24bc79e"
      },
      "execution_count": null,
      "outputs": [
        {
          "output_type": "stream",
          "name": "stdout",
          "text": [
            "tf.Tensor([2 4], shape=(2,), dtype=int32)\n",
            "tf.Tensor(\n",
            "[[[1]\n",
            "  [2]]\n",
            "\n",
            " [[3]\n",
            "  [4]]], shape=(2, 2, 1), dtype=int32)\n"
          ]
        }
      ]
    },
    {
      "cell_type": "code",
      "source": [
        "#alternative ways for tf.newaxis\n",
        "tensor = tf.constant([[1,2],[3,4]])\n",
        "print(tensor.shape)\n",
        "print(tf.expand_dims(tensor, axis = -1).shape) # adds extra dimension in the last\n",
        "print(tf.expand_dims(tensor, axis = 1).shape) # adds extra dimension in the middle\n",
        "print(tf.expand_dims(tensor, axis = 0).shape) #adds extra dimension in the front"
      ],
      "metadata": {
        "colab": {
          "base_uri": "https://localhost:8080/"
        },
        "id": "69Do2vjSlr_s",
        "outputId": "7f99a10d-17c3-44b2-da73-49a11b9cbec8"
      },
      "execution_count": null,
      "outputs": [
        {
          "output_type": "stream",
          "name": "stdout",
          "text": [
            "(2, 2)\n",
            "(2, 2, 1)\n",
            "(2, 1, 2)\n",
            "(1, 2, 2)\n"
          ]
        }
      ]
    },
    {
      "cell_type": "markdown",
      "source": [
        "### Manipulating tensors"
      ],
      "metadata": {
        "id": "yFq5eSMfpyKI"
      }
    },
    {
      "cell_type": "markdown",
      "source": [
        "**basic operations**"
      ],
      "metadata": {
        "id": "agMPIJeSqNNk"
      }
    },
    {
      "cell_type": "code",
      "source": [
        "tensor = tf.constant([[1,2],[3,4]])\n",
        "#broadcasting\n",
        "print(tensor+10) # please note original tensor is still unchanged\n",
        "print(tensor*10)\n",
        "print(tensor-10)"
      ],
      "metadata": {
        "colab": {
          "base_uri": "https://localhost:8080/"
        },
        "id": "k07qZRryphYh",
        "outputId": "c2a7cc96-2372-41e5-ed51-51fd4a5fe21e"
      },
      "execution_count": null,
      "outputs": [
        {
          "output_type": "stream",
          "name": "stdout",
          "text": [
            "tf.Tensor(\n",
            "[[11 12]\n",
            " [13 14]], shape=(2, 2), dtype=int32)\n",
            "tf.Tensor(\n",
            "[[10 20]\n",
            " [30 40]], shape=(2, 2), dtype=int32)\n",
            "tf.Tensor(\n",
            "[[-9 -8]\n",
            " [-7 -6]], shape=(2, 2), dtype=int32)\n"
          ]
        }
      ]
    },
    {
      "cell_type": "code",
      "source": [
        "#by using tensorlow's inbuild function as well\n",
        "print(tf.math.multiply(tensor,10))\n",
        "print(tf.math.subtract(tensor,10))\n",
        "print(tf.math.add(tensor,10))"
      ],
      "metadata": {
        "colab": {
          "base_uri": "https://localhost:8080/"
        },
        "id": "rsbHATr_qV8A",
        "outputId": "9b210ed4-42db-4231-86ac-beb235e9d866"
      },
      "execution_count": null,
      "outputs": [
        {
          "output_type": "stream",
          "name": "stdout",
          "text": [
            "tf.Tensor(\n",
            "[[10 20]\n",
            " [30 40]], shape=(2, 2), dtype=int32)\n",
            "tf.Tensor(\n",
            "[[-9 -8]\n",
            " [-7 -6]], shape=(2, 2), dtype=int32)\n",
            "tf.Tensor(\n",
            "[[11 12]\n",
            " [13 14]], shape=(2, 2), dtype=int32)\n"
          ]
        }
      ]
    },
    {
      "cell_type": "markdown",
      "source": [
        "**Matrix Multiplication**<br>\n",
        "You can perform matrix multiplication by using following:\n",
        "* `tf.matmul()`\n",
        "* `tf.tensordot()`\n",
        "* `@`"
      ],
      "metadata": {
        "id": "G0Av303Kr_xl"
      }
    },
    {
      "cell_type": "code",
      "source": [
        "tf.matmul(tensor, tensor)"
      ],
      "metadata": {
        "colab": {
          "base_uri": "https://localhost:8080/"
        },
        "id": "6C0kp-NorSI9",
        "outputId": "672b92a8-1e39-4eda-dd3b-b2fe1bcb8aa6"
      },
      "execution_count": null,
      "outputs": [
        {
          "output_type": "execute_result",
          "data": {
            "text/plain": [
              "<tf.Tensor: shape=(2, 2), dtype=int32, numpy=\n",
              "array([[ 7, 10],\n",
              "       [15, 22]], dtype=int32)>"
            ]
          },
          "metadata": {},
          "execution_count": 19
        }
      ]
    },
    {
      "cell_type": "markdown",
      "source": [
        "🔑 **Note** In matrix multiplication the column of left matrix need to match the rows of the right matrix only then we can perform the operation"
      ],
      "metadata": {
        "id": "T9GmYQXythBC"
      }
    },
    {
      "cell_type": "code",
      "source": [
        "a = tf.constant([[1,2,3],[4,5,6]])\n",
        "b = tf.constant([[4,5,6],[7,8,9]])"
      ],
      "metadata": {
        "id": "nCesS50nsXDc"
      },
      "execution_count": null,
      "outputs": []
    },
    {
      "cell_type": "code",
      "source": [
        "tf.matmul(a,b) # we will get error here "
      ],
      "metadata": {
        "colab": {
          "base_uri": "https://localhost:8080/",
          "height": 317
        },
        "id": "VrplqZxytsNh",
        "outputId": "0b81c10e-eab3-4154-a4cb-69cefe04dc75"
      },
      "execution_count": null,
      "outputs": [
        {
          "output_type": "error",
          "ename": "InvalidArgumentError",
          "evalue": "ignored",
          "traceback": [
            "\u001b[0;31m---------------------------------------------------------------------------\u001b[0m",
            "\u001b[0;31mInvalidArgumentError\u001b[0m                      Traceback (most recent call last)",
            "\u001b[0;32m<ipython-input-21-34dacdac42cd>\u001b[0m in \u001b[0;36m<module>\u001b[0;34m()\u001b[0m\n\u001b[0;32m----> 1\u001b[0;31m \u001b[0mtf\u001b[0m\u001b[0;34m.\u001b[0m\u001b[0mmatmul\u001b[0m\u001b[0;34m(\u001b[0m\u001b[0ma\u001b[0m\u001b[0;34m,\u001b[0m\u001b[0mb\u001b[0m\u001b[0;34m)\u001b[0m \u001b[0;31m# we will get error here\u001b[0m\u001b[0;34m\u001b[0m\u001b[0;34m\u001b[0m\u001b[0m\n\u001b[0m",
            "\u001b[0;32m/usr/local/lib/python3.7/dist-packages/tensorflow/python/util/traceback_utils.py\u001b[0m in \u001b[0;36merror_handler\u001b[0;34m(*args, **kwargs)\u001b[0m\n\u001b[1;32m    151\u001b[0m     \u001b[0;32mexcept\u001b[0m \u001b[0mException\u001b[0m \u001b[0;32mas\u001b[0m \u001b[0me\u001b[0m\u001b[0;34m:\u001b[0m\u001b[0;34m\u001b[0m\u001b[0;34m\u001b[0m\u001b[0m\n\u001b[1;32m    152\u001b[0m       \u001b[0mfiltered_tb\u001b[0m \u001b[0;34m=\u001b[0m \u001b[0m_process_traceback_frames\u001b[0m\u001b[0;34m(\u001b[0m\u001b[0me\u001b[0m\u001b[0;34m.\u001b[0m\u001b[0m__traceback__\u001b[0m\u001b[0;34m)\u001b[0m\u001b[0;34m\u001b[0m\u001b[0;34m\u001b[0m\u001b[0m\n\u001b[0;32m--> 153\u001b[0;31m       \u001b[0;32mraise\u001b[0m \u001b[0me\u001b[0m\u001b[0;34m.\u001b[0m\u001b[0mwith_traceback\u001b[0m\u001b[0;34m(\u001b[0m\u001b[0mfiltered_tb\u001b[0m\u001b[0;34m)\u001b[0m \u001b[0;32mfrom\u001b[0m \u001b[0;32mNone\u001b[0m\u001b[0;34m\u001b[0m\u001b[0;34m\u001b[0m\u001b[0m\n\u001b[0m\u001b[1;32m    154\u001b[0m     \u001b[0;32mfinally\u001b[0m\u001b[0;34m:\u001b[0m\u001b[0;34m\u001b[0m\u001b[0;34m\u001b[0m\u001b[0m\n\u001b[1;32m    155\u001b[0m       \u001b[0;32mdel\u001b[0m \u001b[0mfiltered_tb\u001b[0m\u001b[0;34m\u001b[0m\u001b[0;34m\u001b[0m\u001b[0m\n",
            "\u001b[0;32m/usr/local/lib/python3.7/dist-packages/tensorflow/python/framework/ops.py\u001b[0m in \u001b[0;36mraise_from_not_ok_status\u001b[0;34m(e, name)\u001b[0m\n\u001b[1;32m   7184\u001b[0m \u001b[0;32mdef\u001b[0m \u001b[0mraise_from_not_ok_status\u001b[0m\u001b[0;34m(\u001b[0m\u001b[0me\u001b[0m\u001b[0;34m,\u001b[0m \u001b[0mname\u001b[0m\u001b[0;34m)\u001b[0m\u001b[0;34m:\u001b[0m\u001b[0;34m\u001b[0m\u001b[0;34m\u001b[0m\u001b[0m\n\u001b[1;32m   7185\u001b[0m   \u001b[0me\u001b[0m\u001b[0;34m.\u001b[0m\u001b[0mmessage\u001b[0m \u001b[0;34m+=\u001b[0m \u001b[0;34m(\u001b[0m\u001b[0;34m\" name: \"\u001b[0m \u001b[0;34m+\u001b[0m \u001b[0mname\u001b[0m \u001b[0;32mif\u001b[0m \u001b[0mname\u001b[0m \u001b[0;32mis\u001b[0m \u001b[0;32mnot\u001b[0m \u001b[0;32mNone\u001b[0m \u001b[0;32melse\u001b[0m \u001b[0;34m\"\"\u001b[0m\u001b[0;34m)\u001b[0m\u001b[0;34m\u001b[0m\u001b[0;34m\u001b[0m\u001b[0m\n\u001b[0;32m-> 7186\u001b[0;31m   \u001b[0;32mraise\u001b[0m \u001b[0mcore\u001b[0m\u001b[0;34m.\u001b[0m\u001b[0m_status_to_exception\u001b[0m\u001b[0;34m(\u001b[0m\u001b[0me\u001b[0m\u001b[0;34m)\u001b[0m \u001b[0;32mfrom\u001b[0m \u001b[0;32mNone\u001b[0m  \u001b[0;31m# pylint: disable=protected-access\u001b[0m\u001b[0;34m\u001b[0m\u001b[0;34m\u001b[0m\u001b[0m\n\u001b[0m\u001b[1;32m   7187\u001b[0m \u001b[0;34m\u001b[0m\u001b[0m\n\u001b[1;32m   7188\u001b[0m \u001b[0;34m\u001b[0m\u001b[0m\n",
            "\u001b[0;31mInvalidArgumentError\u001b[0m: Matrix size-incompatible: In[0]: [2,3], In[1]: [2,3] [Op:MatMul]"
          ]
        }
      ]
    },
    {
      "cell_type": "code",
      "source": [
        "#Here we have rehsape the matrix b to match matrix a\n",
        "tf.matmul(a,tf.reshape(b, shape=(3,2)))\n"
      ],
      "metadata": {
        "colab": {
          "base_uri": "https://localhost:8080/"
        },
        "id": "FFK7eBh6tyDY",
        "outputId": "24fc63c7-a3fb-47a1-b30e-d82fef66cde0"
      },
      "execution_count": null,
      "outputs": [
        {
          "output_type": "execute_result",
          "data": {
            "text/plain": [
              "<tf.Tensor: shape=(2, 2), dtype=int32, numpy=\n",
              "array([[ 40,  46],\n",
              "       [ 94, 109]], dtype=int32)>"
            ]
          },
          "metadata": {},
          "execution_count": 22
        }
      ]
    },
    {
      "cell_type": "code",
      "source": [
        "tf.matmul(a,tf.transpose(b))"
      ],
      "metadata": {
        "colab": {
          "base_uri": "https://localhost:8080/"
        },
        "id": "CGpf2dJ5t4sp",
        "outputId": "be32e888-e099-4529-bd16-bbe69ba4b666"
      },
      "execution_count": null,
      "outputs": [
        {
          "output_type": "execute_result",
          "data": {
            "text/plain": [
              "<tf.Tensor: shape=(2, 2), dtype=int32, numpy=\n",
              "array([[ 32,  50],\n",
              "       [ 77, 122]], dtype=int32)>"
            ]
          },
          "metadata": {},
          "execution_count": 23
        }
      ]
    },
    {
      "cell_type": "code",
      "source": [
        "tensor = tf.constant([[1,2],[3,4]])\n",
        "tf.tensordot(tensor,tensor,axes=1)"
      ],
      "metadata": {
        "colab": {
          "base_uri": "https://localhost:8080/"
        },
        "id": "SZlYloU6uShp",
        "outputId": "1b46016f-cd04-46f3-d0cc-dacd09d76107"
      },
      "execution_count": null,
      "outputs": [
        {
          "output_type": "execute_result",
          "data": {
            "text/plain": [
              "<tf.Tensor: shape=(2, 2), dtype=int32, numpy=\n",
              "array([[ 7, 10],\n",
              "       [15, 22]], dtype=int32)>"
            ]
          },
          "metadata": {},
          "execution_count": 24
        }
      ]
    },
    {
      "cell_type": "code",
      "source": [
        "tf.tensordot(tensor,tensor,axes=0)"
      ],
      "metadata": {
        "colab": {
          "base_uri": "https://localhost:8080/"
        },
        "id": "al2xkhn3uqmx",
        "outputId": "db7b641d-dec4-42e2-d055-2b888f6afbe0"
      },
      "execution_count": null,
      "outputs": [
        {
          "output_type": "execute_result",
          "data": {
            "text/plain": [
              "<tf.Tensor: shape=(2, 2, 2, 2), dtype=int32, numpy=\n",
              "array([[[[ 1,  2],\n",
              "         [ 3,  4]],\n",
              "\n",
              "        [[ 2,  4],\n",
              "         [ 6,  8]]],\n",
              "\n",
              "\n",
              "       [[[ 3,  6],\n",
              "         [ 9, 12]],\n",
              "\n",
              "        [[ 4,  8],\n",
              "         [12, 16]]]], dtype=int32)>"
            ]
          },
          "metadata": {},
          "execution_count": 25
        }
      ]
    },
    {
      "cell_type": "markdown",
      "source": [
        "### Change the datatype of the tensor"
      ],
      "metadata": {
        "id": "VGHa8ButwHS3"
      }
    },
    {
      "cell_type": "code",
      "source": [
        "tensor = tf.constant([[1,2],[3,4]])\n",
        "print(tensor.dtype)\n",
        "new_tensor = tf.cast(tensor, dtype = tf.float16) \n",
        "print(new_tensor.dtype)"
      ],
      "metadata": {
        "colab": {
          "base_uri": "https://localhost:8080/"
        },
        "id": "35eFYL9pu8PR",
        "outputId": "f270b323-4545-448d-ffb2-622dd93cdbf5"
      },
      "execution_count": null,
      "outputs": [
        {
          "output_type": "stream",
          "name": "stdout",
          "text": [
            "<dtype: 'int32'>\n",
            "<dtype: 'float16'>\n"
          ]
        }
      ]
    },
    {
      "cell_type": "markdown",
      "source": [
        "**Aggregating Tensors**<br>\n",
        "* mean \n",
        "* max \n",
        "* min \n",
        "* sum"
      ],
      "metadata": {
        "id": "QXwP8a7uxveK"
      }
    },
    {
      "cell_type": "code",
      "source": [
        "tensor = tf.constant([[-1,-2],[-3,-4]])\n",
        "#Perform absolute operation\n",
        "tf.abs(tensor)\n",
        "tensor = tf.constant(np.random.randint(0,150, size=25))\n",
        "print(tensor)"
      ],
      "metadata": {
        "id": "GYOpw2rUwLi8",
        "colab": {
          "base_uri": "https://localhost:8080/"
        },
        "outputId": "b7408613-970b-4547-a27a-c3300e266e71"
      },
      "execution_count": null,
      "outputs": [
        {
          "output_type": "stream",
          "name": "stdout",
          "text": [
            "tf.Tensor(\n",
            "[ 45  32  76  95  84  66 147  68  98  67 112  58  13  58 115  63  12  58\n",
            "  86 131 147  19  36 116  11], shape=(25,), dtype=int64)\n"
          ]
        }
      ]
    },
    {
      "cell_type": "code",
      "source": [
        "#find the minimum\n",
        "print(\"minimum\",tf.reduce_min(tensor))\n",
        "#find the max\n",
        "print(\"maximum\",tf.reduce_max(tensor))\n",
        "#find the mean\n",
        "print(\"mean\",tf.reduce_mean(tensor))\n",
        "#find the sum\n",
        "print(\"sum\",tf.reduce_sum(tensor))"
      ],
      "metadata": {
        "colab": {
          "base_uri": "https://localhost:8080/"
        },
        "id": "N6fuIdDwyRkX",
        "outputId": "08ec7914-9c83-4c3f-852c-6e02aab84e13"
      },
      "execution_count": null,
      "outputs": [
        {
          "output_type": "stream",
          "name": "stdout",
          "text": [
            "minimum tf.Tensor(11, shape=(), dtype=int64)\n",
            "maximum tf.Tensor(147, shape=(), dtype=int64)\n",
            "mean tf.Tensor(72, shape=(), dtype=int64)\n",
            "sum tf.Tensor(1813, shape=(), dtype=int64)\n"
          ]
        }
      ]
    },
    {
      "cell_type": "markdown",
      "source": [
        "**standard deviation** is the square root of the variance<br>**variance** is the average of all data points within a group. A **variance** is the average of the squared differences from the mean."
      ],
      "metadata": {
        "id": "00h4KzxH0LpR"
      }
    },
    {
      "cell_type": "code",
      "source": [
        "# BY using inbuilt functions \n",
        "import tensorflow_probability as tfp\n",
        "print(\"variance is\",tf.math.reduce_variance(tf.cast(tensor, dtype=tf.float64 )))\n",
        "print(\"standart deviation is\", tf.math.reduce_std(tf.cast(tensor, dtype=tf.float64 )))\n",
        "#---------------------------Using helper function-------------------\n",
        "#find the variance of our tensor\n",
        "mean = tf.reduce_mean(tensor)\n",
        "squared_reduce_mean = tf.square(tf.subtract(tensor,mean))\n",
        "#find the standard deviation of our tensor\n",
        "variance = tf.divide(tf.reduce_sum(squared_reduce_mean),tf.cast(tf.size(tensor), dtype = tf.int64))\n",
        "print(\"variance is\", variance)\n",
        "standard_deviation = tf.math.sqrt(variance\n",
        ")\n",
        "print(\"standart deviation is\",standard_deviation)\n"
      ],
      "metadata": {
        "colab": {
          "base_uri": "https://localhost:8080/"
        },
        "id": "w-fCbwAyy79q",
        "outputId": "4b919eba-483c-40c8-d382-03c5964dfba1"
      },
      "execution_count": null,
      "outputs": [
        {
          "output_type": "stream",
          "name": "stdout",
          "text": [
            "variance is tf.Tensor(1586.0896, shape=(), dtype=float64)\n",
            "standart deviation is tf.Tensor(39.82574041998466, shape=(), dtype=float64)\n",
            "variance is tf.Tensor(1586.36, shape=(), dtype=float64)\n",
            "standart deviation is tf.Tensor(39.829135064673444, shape=(), dtype=float64)\n"
          ]
        }
      ]
    },
    {
      "cell_type": "code",
      "source": [
        "#finding the positional maximum and minimum \n",
        "tensor"
      ],
      "metadata": {
        "colab": {
          "base_uri": "https://localhost:8080/"
        },
        "id": "QU8O1angz-a0",
        "outputId": "a441cbaa-c6e1-4910-c9b3-2866b6bdf799"
      },
      "execution_count": null,
      "outputs": [
        {
          "output_type": "execute_result",
          "data": {
            "text/plain": [
              "<tf.Tensor: shape=(25,), dtype=int64, numpy=\n",
              "array([ 45,  32,  76,  95,  84,  66, 147,  68,  98,  67, 112,  58,  13,\n",
              "        58, 115,  63,  12,  58,  86, 131, 147,  19,  36, 116,  11])>"
            ]
          },
          "metadata": {},
          "execution_count": 30
        }
      ]
    },
    {
      "cell_type": "code",
      "source": [
        "print(tf.argmax(tensor))\n",
        "print(tf.argmin(tensor))"
      ],
      "metadata": {
        "colab": {
          "base_uri": "https://localhost:8080/"
        },
        "id": "bIAyP-N44JoL",
        "outputId": "45f0175d-7a1a-4b50-b122-d6801648d8ae"
      },
      "execution_count": null,
      "outputs": [
        {
          "output_type": "stream",
          "name": "stdout",
          "text": [
            "tf.Tensor(6, shape=(), dtype=int64)\n",
            "tf.Tensor(24, shape=(), dtype=int64)\n"
          ]
        }
      ]
    },
    {
      "cell_type": "markdown",
      "source": [
        "### One Hot encoding Tensors"
      ],
      "metadata": {
        "id": "XQTMXaG_Aofg"
      }
    },
    {
      "cell_type": "code",
      "source": [
        "tensor = [1, 2, 3]"
      ],
      "metadata": {
        "id": "TRKohqYyAOP8"
      },
      "execution_count": null,
      "outputs": []
    },
    {
      "cell_type": "code",
      "source": [
        "tf.one_hot(tensor, depth=3)"
      ],
      "metadata": {
        "colab": {
          "base_uri": "https://localhost:8080/"
        },
        "id": "lf2O5cPlBAUd",
        "outputId": "c1aa77c6-6efd-4065-cfe9-8ec693b92823"
      },
      "execution_count": null,
      "outputs": [
        {
          "output_type": "execute_result",
          "data": {
            "text/plain": [
              "<tf.Tensor: shape=(3, 3), dtype=float32, numpy=\n",
              "array([[0., 1., 0.],\n",
              "       [0., 0., 1.],\n",
              "       [0., 0., 0.]], dtype=float32)>"
            ]
          },
          "metadata": {},
          "execution_count": 33
        }
      ]
    },
    {
      "cell_type": "code",
      "source": [
        "tf.one_hot(tensor, depth=3, on_value=\"present\", off_value=\"absent\")"
      ],
      "metadata": {
        "colab": {
          "base_uri": "https://localhost:8080/"
        },
        "id": "LcF5lAB1BOTg",
        "outputId": "3c999777-9f28-4dd3-f49e-47bce2f53bab"
      },
      "execution_count": null,
      "outputs": [
        {
          "output_type": "execute_result",
          "data": {
            "text/plain": [
              "<tf.Tensor: shape=(3, 3), dtype=string, numpy=\n",
              "array([[b'absent', b'present', b'absent'],\n",
              "       [b'absent', b'absent', b'present'],\n",
              "       [b'absent', b'absent', b'absent']], dtype=object)>"
            ]
          },
          "metadata": {},
          "execution_count": 34
        }
      ]
    },
    {
      "cell_type": "markdown",
      "source": [
        "###Tensorflow and numpy compatibility\n",
        "Tensorflow interacts amazingly with numpy\n",
        "However be careful when it comes to datatypes numpy have float32 as their default and tensorlfow have float64 as their default"
      ],
      "metadata": {
        "id": "aT_EZWcYCf07"
      }
    },
    {
      "cell_type": "markdown",
      "source": [
        ""
      ],
      "metadata": {
        "id": "aaoTc5h7DS8K"
      }
    },
    {
      "cell_type": "code",
      "source": [
        "tf.config.list_physical_devices(\"GPU\")"
      ],
      "metadata": {
        "colab": {
          "base_uri": "https://localhost:8080/"
        },
        "id": "_rF9aH4FDXcV",
        "outputId": "cbf9e81b-32c6-4b98-b65e-a95715f32da7"
      },
      "execution_count": null,
      "outputs": [
        {
          "output_type": "execute_result",
          "data": {
            "text/plain": [
              "[PhysicalDevice(name='/physical_device:GPU:0', device_type='GPU')]"
            ]
          },
          "metadata": {},
          "execution_count": 36
        }
      ]
    },
    {
      "cell_type": "code",
      "source": [
        "!nvidia-smi"
      ],
      "metadata": {
        "colab": {
          "base_uri": "https://localhost:8080/"
        },
        "id": "AoARCHC5DZnS",
        "outputId": "0998bd40-ac30-44a8-cdbe-cda705d6852e"
      },
      "execution_count": null,
      "outputs": [
        {
          "output_type": "stream",
          "name": "stdout",
          "text": [
            "Mon Feb 21 11:36:29 2022       \n",
            "+-----------------------------------------------------------------------------+\n",
            "| NVIDIA-SMI 460.32.03    Driver Version: 460.32.03    CUDA Version: 11.2     |\n",
            "|-------------------------------+----------------------+----------------------+\n",
            "| GPU  Name        Persistence-M| Bus-Id        Disp.A | Volatile Uncorr. ECC |\n",
            "| Fan  Temp  Perf  Pwr:Usage/Cap|         Memory-Usage | GPU-Util  Compute M. |\n",
            "|                               |                      |               MIG M. |\n",
            "|===============================+======================+======================|\n",
            "|   0  Tesla T4            Off  | 00000000:00:04.0 Off |                    0 |\n",
            "| N/A   44C    P0    26W /  70W |    266MiB / 15109MiB |      0%      Default |\n",
            "|                               |                      |                  N/A |\n",
            "+-------------------------------+----------------------+----------------------+\n",
            "                                                                               \n",
            "+-----------------------------------------------------------------------------+\n",
            "| Processes:                                                                  |\n",
            "|  GPU   GI   CI        PID   Type   Process name                  GPU Memory |\n",
            "|        ID   ID                                                   Usage      |\n",
            "|=============================================================================|\n",
            "+-----------------------------------------------------------------------------+\n"
          ]
        }
      ]
    }
  ]
}